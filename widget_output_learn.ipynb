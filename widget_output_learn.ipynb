{
 "cells": [
  {
   "cell_type": "code",
   "execution_count": 1,
   "id": "understood-counter",
   "metadata": {},
   "outputs": [],
   "source": [
    "import ipywidgets as widgets"
   ]
  },
  {
   "cell_type": "code",
   "execution_count": 2,
   "id": "agricultural-track",
   "metadata": {},
   "outputs": [
    {
     "data": {
      "application/vnd.jupyter.widget-view+json": {
       "model_id": "2ebe92893c2448898b3e6614991bdace",
       "version_major": 2,
       "version_minor": 0
      },
      "text/plain": [
       "Output(layout=Layout(border='1px solid black'))"
      ]
     },
     "metadata": {},
     "output_type": "display_data"
    }
   ],
   "source": [
    "out = widgets.Output(layout={'border': '1px solid black'})\n",
    "out"
   ]
  },
  {
   "cell_type": "code",
   "execution_count": 3,
   "id": "economic-cleaners",
   "metadata": {},
   "outputs": [],
   "source": [
    "with out:\n",
    "    for i in range(10):\n",
    "        print(i, 'Hello world!')"
   ]
  },
  {
   "cell_type": "code",
   "execution_count": 4,
   "id": "sophisticated-merit",
   "metadata": {},
   "outputs": [],
   "source": [
    "from IPython.display import YouTubeVideo\n",
    "with out:\n",
    "    display(YouTubeVideo('M1IcIMByOe4'))"
   ]
  },
  {
   "cell_type": "code",
   "execution_count": 5,
   "id": "asian-jonathan",
   "metadata": {},
   "outputs": [],
   "source": [
    "with out:\n",
    "    display(widgets.IntSlider())"
   ]
  },
  {
   "cell_type": "code",
   "execution_count": 11,
   "id": "spanish-colleague",
   "metadata": {},
   "outputs": [],
   "source": [
    "out.append_stdout('Output appended with append_stdout')"
   ]
  },
  {
   "cell_type": "code",
   "execution_count": 12,
   "id": "figured-contributor",
   "metadata": {},
   "outputs": [],
   "source": [
    "out.append_display_data(YouTubeVideo('eWzY2nGfkXk'))"
   ]
  },
  {
   "cell_type": "code",
   "execution_count": 10,
   "id": "hungry-concord",
   "metadata": {},
   "outputs": [],
   "source": [
    "out.clear_output()"
   ]
  },
  {
   "cell_type": "code",
   "execution_count": 14,
   "id": "descending-computer",
   "metadata": {},
   "outputs": [],
   "source": [
    "from IPython import display\n",
    "with out:\n",
    "    display.clear_output()"
   ]
  },
  {
   "cell_type": "code",
   "execution_count": 16,
   "id": "national-burner",
   "metadata": {},
   "outputs": [],
   "source": [
    "@out.capture()\n",
    "def f():\n",
    "    print('This goes into the output widget')\n",
    "    raise Exception('As does this')\n",
    "    \n",
    "f()"
   ]
  },
  {
   "cell_type": "code",
   "execution_count": null,
   "id": "excess-pencil",
   "metadata": {},
   "outputs": [],
   "source": []
  }
 ],
 "metadata": {
  "kernelspec": {
   "display_name": "Python 3",
   "language": "python",
   "name": "python3"
  },
  "language_info": {
   "codemirror_mode": {
    "name": "ipython",
    "version": 3
   },
   "file_extension": ".py",
   "mimetype": "text/x-python",
   "name": "python",
   "nbconvert_exporter": "python",
   "pygments_lexer": "ipython3",
   "version": "3.7.3"
  }
 },
 "nbformat": 4,
 "nbformat_minor": 5
}
